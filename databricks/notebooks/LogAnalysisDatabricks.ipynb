{
 "cells": [
  {
   "cell_type": "markdown",
   "id": "f697b898",
   "metadata": {},
   "source": [
    "# 🧪 Log Analysis com Elasticsearch + Databricks"
   ]
  },
  {
   "cell_type": "code",
   "execution_count": null,
   "id": "708c4550",
   "metadata": {},
   "outputs": [],
   "source": [
    "# Extração do Elasticsearch\n",
    "from pyspark.sql import SparkSession\n",
    "\n",
    "spark = SparkSession.builder \\\n",
    "    .appName(\"ExtractFromElasticsearch\") \\\n",
    "    .config(\"spark.es.nodes\", \"localhost\") \\\n",
    "    .config(\"spark.es.port\", \"9200\") \\\n",
    "    .config(\"spark.es.nodes.wan.only\", \"true\") \\\n",
    "    .getOrCreate()\n",
    "\n",
    "df = spark.read.format(\"org.elasticsearch.spark.sql\") \\\n",
    "    .load(\"logs-api/_doc\")\n",
    "\n",
    "df.show(truncate=False)\n",
    "df.write.mode(\"overwrite\").json(\"dbfs:/tmp/logs_raw\")"
   ]
  },
  {
   "cell_type": "code",
   "execution_count": null,
   "id": "5d3dc28f",
   "metadata": {},
   "outputs": [],
   "source": [
    "# Enriquecimento\n",
    "from pyspark.sql.functions import when, col\n",
    "df = spark.read.json(\"dbfs:/tmp/logs_raw\")\n",
    "\n",
    "df_enriched = df.withColumn(\n",
    "    \"classificacao\",\n",
    "    when(col(\"message\").contains(\"timeout\"), \"TimeoutError\")\n",
    "    .when(col(\"message\").contains(\"null pointer\"), \"NullPointer\")\n",
    "    .when(col(\"message\").contains(\"refused\"), \"ConnectionRefused\")\n",
    "    .otherwise(\"Outros\")\n",
    ")\n",
    "\n",
    "df_enriched.show(truncate=False)\n",
    "df_enriched.write.mode(\"overwrite\").csv(\"dbfs:/tmp/logs_enriched\", header=True)"
   ]
  },
  {
   "cell_type": "code",
   "execution_count": null,
   "id": "1c095d2e",
   "metadata": {},
   "outputs": [],
   "source": [
    "# Retorno para Elasticsearch\n",
    "df_final = spark.read.csv(\"dbfs:/tmp/logs_enriched\", header=True)\n",
    "df_final.write.format(\"org.elasticsearch.spark.sql\") \\\n",
    "    .option(\"es.resource\", \"logs-enriched/_doc\") \\\n",
    "    .mode(\"overwrite\") \\\n",
    "    .save()"
   ]
  }
 ],
 "metadata": {},
 "nbformat": 4,
 "nbformat_minor": 5
}
